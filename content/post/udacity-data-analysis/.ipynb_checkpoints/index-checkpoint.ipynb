{
 "cells": [
  {
   "cell_type": "code",
   "execution_count": null,
   "metadata": {},
   "outputs": [],
   "source": [
    "--- \n",
    "title: Display Jupyter Notebooks with Academic \n",
    "subtitle: Learn how to blog in Academic using Jupyter notebooks \n",
    "summary: Learn how to blog in Academic using Jupyter notebooks \n",
    "authors: - \n",
    "    admin tags: [] \n",
    "categories: [] \n",
    "date: \"2019-02-05T00:00:00Z\" \n",
    "lastMod: \"2019-09-05T00:00:00Z\" \n",
    "featured: false \n",
    "draft: false \n",
    "# Featured image # To use, add an image named `featured.jpg/png` to your page's folder. \n",
    "image: caption: \"\" focal_point: \"\" \n",
    "# Projects (optional). \n",
    "# Associate this post with one or more of your projects. \n",
    "# Simply enter your project's folder or file name without extension. \n",
    "# E.g. `projects = [\"internal-project\"]` references # `content/project/deep-learning/index.md`. \n",
    "# Otherwise, set `projects = []`. projects: [] \n",
    "---"
   ]
  },
  {
   "cell_type": "code",
   "execution_count": 6,
   "metadata": {},
   "outputs": [
    {
     "name": "stdout",
     "output_type": "stream",
     "text": [
      "/Users/joshuagoldberg/anaconda3/bin/python\n"
     ]
    }
   ],
   "source": [
    "! which python"
   ]
  },
  {
   "cell_type": "code",
   "execution_count": 10,
   "metadata": {},
   "outputs": [
    {
     "name": "stdout",
     "output_type": "stream",
     "text": [
      "/Users/joshuagoldberg/anaconda3/bin/pip\n",
      "/Library/Frameworks/Python.framework/Versions/3.7/bin/jupyter\n"
     ]
    }
   ],
   "source": [
    "%%sh\n",
    "! which pip\n",
    "! which jupyter\n",
    "! which jupyter_contrib_nbextensions\n",
    "! which jupyter_nbextensions_configurator"
   ]
  },
  {
   "cell_type": "code",
   "execution_count": null,
   "metadata": {},
   "outputs": [],
   "source": []
  }
 ],
 "metadata": {
  "kernelspec": {
   "display_name": "Python 3",
   "language": "python",
   "name": "python3"
  },
  "language_info": {
   "codemirror_mode": {
    "name": "ipython",
    "version": 3
   },
   "file_extension": ".py",
   "mimetype": "text/x-python",
   "name": "python",
   "nbconvert_exporter": "python",
   "pygments_lexer": "ipython3",
   "version": "3.7.1"
  }
 },
 "nbformat": 4,
 "nbformat_minor": 4
}
